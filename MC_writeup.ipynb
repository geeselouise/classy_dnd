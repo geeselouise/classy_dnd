{
 "cells": [
  {
   "cell_type": "markdown",
   "id": "3e1ababb-a0da-4ec6-8515-b063917e5387",
   "metadata": {},
   "source": [
    "# Interpreting what aspects of a DnD 5e characters indicate that they are multiclassing.\n",
    "\n",
    "## Abstract:\n"
   ]
  },
  {
   "cell_type": "markdown",
   "id": "41bded16-bdad-4f31-b1d2-548edfddccdd",
   "metadata": {},
   "source": [
    "## Design:\n",
    "I am interested in building an interpretive classification model that utilizes DnD character sheet data to determine whether a character is multiclassing. The entire goal of this project is to ascertain which features indicate class and how their interactions influence their class."
   ]
  },
  {
   "cell_type": "markdown",
   "id": "1b766224-de04-4919-b955-d2a31dd3d668",
   "metadata": {},
   "source": [
    "## Data\n",
    "All character sheet data was obtained from GitHub user [oganm's](https://github.com/oganm) repository [dnddata](https://github.com/oganm/dnddata). It is a weekly updated dataset of characters that are submitted to his web applications [printSheetApp](https://oganm.com/shiny/printSheetApp/) and [interactiveSheet](https://oganm.com/shiny/interactiveSheet/). He did some exploratory data analysis (EDA) on the dataset to determine rarity of DnD characters in a [dndstats blogpost](https://oganm.github.io/dndstats/). This was based on an article by FiveThirtyEight titled: [Is Your D&D Character Rare?](https://fivethirtyeight.com/features/is-your-dd-character-rare/)\n",
    "\n",
    "The [**dataset**](https://github.com/oganm/dnddata/blob/master/data-raw/dnd_chars_all.tsv) has 9784 character sheets, with about 19 features. Some of them Oganm processed which was nice. Many had to be one-hot encoded and categorized to feed into the model."
   ]
  },
  {
   "cell_type": "markdown",
   "id": "6ede3b67-0670-4b65-9284-2c47d8b4d309",
   "metadata": {},
   "source": [
    "## Algorithms:\n",
    "*Feature Engineering*\n",
    "\n",
    "The classification model algorithms for this project that will be tested are: **Logistic Regression, Random Forest, and Naive Bayes (Bernoulli and Guassian)**. Classification model evaluation metric focus is f-1 score.\n",
    "- Still analyze results with Precision, Recall, Confusion Matrix, and ROC Curves"
   ]
  },
  {
   "cell_type": "markdown",
   "id": "99ba031a-12eb-4e15-82bc-a9b7109d1af2",
   "metadata": {},
   "source": [
    "## Tools:\n",
    "- sklearn, pandas, numpy, and matplotlib\n",
    "- Tableau and seaborn for visualization\n",
    "    - To see the interactive dashboard and EDA for the dataset click [here](https://public.tableau.com/app/profile/louisa.reilly/viz/dnd5e_char/DnD_Char?publish=yes)."
   ]
  },
  {
   "cell_type": "markdown",
   "id": "5f524eac-72b1-4587-a34a-8215526b5f59",
   "metadata": {},
   "source": [
    "### Sources/Acknowledgements:\n",
    "- Gary Gygax and Dave Arneson for creating DnD.\n",
    "- Wizards of the Coast(subsidary of Hasbro) which publishes DnD guides.\n",
    "- B. Ogan Mancarci for his data collection. [GitRepo](https://github.com/oganm/dnddata)\n",
    "- Dan Quach for his 2020 [blogpost](https://towardsdatascience.com/classifying-character-classes-in-dungeons-dragons-with-machine-learning-86751240594d) about creating a classifier using Oganm's dataset."
   ]
  },
  {
   "cell_type": "code",
   "execution_count": null,
   "id": "2b5c9e06-35a2-4e67-a4e3-47fc69191560",
   "metadata": {},
   "outputs": [],
   "source": []
  }
 ],
 "metadata": {
  "kernelspec": {
   "display_name": "Python [conda env:redline] *",
   "language": "python",
   "name": "conda-env-redline-py"
  },
  "language_info": {
   "codemirror_mode": {
    "name": "ipython",
    "version": 3
   },
   "file_extension": ".py",
   "mimetype": "text/x-python",
   "name": "python",
   "nbconvert_exporter": "python",
   "pygments_lexer": "ipython3",
   "version": "3.8.10"
  }
 },
 "nbformat": 4,
 "nbformat_minor": 5
}
