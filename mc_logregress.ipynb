{
 "cells": [
  {
   "cell_type": "markdown",
   "id": "36bd147c-6baa-41ef-9f64-80e083c6b7c6",
   "metadata": {},
   "source": [
    "# **DnD Class Predictor**\n",
    "## *Based on character stats, did the character multiclass?*"
   ]
  },
  {
   "cell_type": "markdown",
   "id": "882999fd-31aa-4cda-bbd8-e4f94aeaf387",
   "metadata": {},
   "source": [
    "### **Preface:**\n",
    "Dungeons and Dragons is a high fantasy tabletop role-playing game. Each player creates their own character to join in on a campaign (series of adventures). Every character has a class which influences their skills, abilities, items they can use etc. Some players like to optimize their character builds by multiclassing. \n",
    "\n",
    "Multiclassing is when a player decides to take a level in another class as opposed to the one they personalize your character, or to gain new abilities. Still, it can also be detrimental as it will take longer to gain abilities in the original chosen class. To simplify the DnD class predictor, I will be making a binary classifier that predicts whether or not a character has multiclassed based on their character sheet data."
   ]
  },
  {
   "cell_type": "markdown",
   "id": "54952233-6ebf-49f4-9e81-005728dc3b69",
   "metadata": {},
   "source": [
    "### Before model building:\n",
    "Some exploratory data analysis was done in Tableau. Click [here](https://public.tableau.com/app/profile/louisa.reilly/viz/dnd5e_char/DnD_Char?publish=yes) to see the sheets and interactive dashboard. The dataset was a bit messy, so some data cleaning and processing was done in a separate jupyter notebook. Click [here](https://github.com/geeselouise/classy_dnd/blob/main/char_data_processing.ipynb) to view the notebook."
   ]
  },
  {
   "cell_type": "code",
   "execution_count": 1,
   "id": "590a08a4-3516-4fb1-b300-86534391b97d",
   "metadata": {},
   "outputs": [],
   "source": [
    "import pandas as pd\n",
    "import numpy as np\n",
    "#data viz \n",
    "import seaborn as sns\n",
    "import matplotlib.pyplot as plt\n",
    "plt.style.use('seaborn-colorblind')\n",
    "\n",
    "%matplotlib inline\n",
    "\n",
    "# modeling imports\n",
    "from sklearn.linear_model import LogisticRegression\n",
    "from sklearn.model_selection import train_test_split\n",
    "from sklearn.metrics import precision_recall_curve, f1_score, roc_auc_score\n",
    "from sklearn.metrics import confusion_matrix, roc_curve\n",
    "from sklearn.preprocessing import StandardScaler\n"
   ]
  },
  {
   "cell_type": "code",
   "execution_count": 2,
   "id": "ce9b30ad-7f7b-4030-a139-b9319d6ef2d7",
   "metadata": {},
   "outputs": [],
   "source": [
    "mc = pd.read_csv('~/Documents/GitHub/classy_dnd/dnd_chars_cleaned.csv')"
   ]
  },
  {
   "cell_type": "code",
   "execution_count": 3,
   "id": "65ed75b4-ff2c-4792-ac99-b61140315ce4",
   "metadata": {},
   "outputs": [
    {
     "data": {
      "text/html": [
       "<div>\n",
       "<style scoped>\n",
       "    .dataframe tbody tr th:only-of-type {\n",
       "        vertical-align: middle;\n",
       "    }\n",
       "\n",
       "    .dataframe tbody tr th {\n",
       "        vertical-align: top;\n",
       "    }\n",
       "\n",
       "    .dataframe thead th {\n",
       "        text-align: right;\n",
       "    }\n",
       "</style>\n",
       "<table border=\"1\" class=\"dataframe\">\n",
       "  <thead>\n",
       "    <tr style=\"text-align: right;\">\n",
       "      <th></th>\n",
       "      <th>Unnamed: 0</th>\n",
       "      <th>background</th>\n",
       "      <th>class</th>\n",
       "      <th>justClass</th>\n",
       "      <th>level</th>\n",
       "      <th>feats</th>\n",
       "      <th>HP</th>\n",
       "      <th>AC</th>\n",
       "      <th>Str</th>\n",
       "      <th>Dex</th>\n",
       "      <th>...</th>\n",
       "      <th>castCon</th>\n",
       "      <th>castDex</th>\n",
       "      <th>castStr</th>\n",
       "      <th>otherRace</th>\n",
       "      <th>simpleWeapon</th>\n",
       "      <th>martialWeapon</th>\n",
       "      <th>rangedWeapon</th>\n",
       "      <th>num_feats</th>\n",
       "      <th>num_spells</th>\n",
       "      <th>multiClass</th>\n",
       "    </tr>\n",
       "  </thead>\n",
       "  <tbody>\n",
       "    <tr>\n",
       "      <th>0</th>\n",
       "      <td>0</td>\n",
       "      <td>Knight</td>\n",
       "      <td>Warlock 4</td>\n",
       "      <td>Warlock</td>\n",
       "      <td>4</td>\n",
       "      <td>Fighting Initiate</td>\n",
       "      <td>29</td>\n",
       "      <td>14</td>\n",
       "      <td>9</td>\n",
       "      <td>16</td>\n",
       "      <td>...</td>\n",
       "      <td>0</td>\n",
       "      <td>0</td>\n",
       "      <td>0</td>\n",
       "      <td>0</td>\n",
       "      <td>1</td>\n",
       "      <td>1</td>\n",
       "      <td>0</td>\n",
       "      <td>1</td>\n",
       "      <td>8</td>\n",
       "      <td>0</td>\n",
       "    </tr>\n",
       "    <tr>\n",
       "      <th>1</th>\n",
       "      <td>1</td>\n",
       "      <td>Knight</td>\n",
       "      <td>Warlock 1</td>\n",
       "      <td>Warlock</td>\n",
       "      <td>1</td>\n",
       "      <td>Fighting Initiate</td>\n",
       "      <td>9</td>\n",
       "      <td>13</td>\n",
       "      <td>10</td>\n",
       "      <td>15</td>\n",
       "      <td>...</td>\n",
       "      <td>0</td>\n",
       "      <td>0</td>\n",
       "      <td>0</td>\n",
       "      <td>0</td>\n",
       "      <td>1</td>\n",
       "      <td>0</td>\n",
       "      <td>0</td>\n",
       "      <td>1</td>\n",
       "      <td>0</td>\n",
       "      <td>0</td>\n",
       "    </tr>\n",
       "    <tr>\n",
       "      <th>2</th>\n",
       "      <td>2</td>\n",
       "      <td>Knight</td>\n",
       "      <td>Warlock 3</td>\n",
       "      <td>Warlock</td>\n",
       "      <td>3</td>\n",
       "      <td>NaN</td>\n",
       "      <td>28</td>\n",
       "      <td>12</td>\n",
       "      <td>11</td>\n",
       "      <td>14</td>\n",
       "      <td>...</td>\n",
       "      <td>0</td>\n",
       "      <td>0</td>\n",
       "      <td>0</td>\n",
       "      <td>1</td>\n",
       "      <td>1</td>\n",
       "      <td>0</td>\n",
       "      <td>0</td>\n",
       "      <td>0</td>\n",
       "      <td>11</td>\n",
       "      <td>0</td>\n",
       "    </tr>\n",
       "    <tr>\n",
       "      <th>3</th>\n",
       "      <td>3</td>\n",
       "      <td>Knight</td>\n",
       "      <td>Sorcerer 4</td>\n",
       "      <td>Sorcerer</td>\n",
       "      <td>4</td>\n",
       "      <td>NaN</td>\n",
       "      <td>20</td>\n",
       "      <td>11</td>\n",
       "      <td>14</td>\n",
       "      <td>12</td>\n",
       "      <td>...</td>\n",
       "      <td>0</td>\n",
       "      <td>0</td>\n",
       "      <td>0</td>\n",
       "      <td>0</td>\n",
       "      <td>1</td>\n",
       "      <td>0</td>\n",
       "      <td>0</td>\n",
       "      <td>0</td>\n",
       "      <td>0</td>\n",
       "      <td>0</td>\n",
       "    </tr>\n",
       "    <tr>\n",
       "      <th>4</th>\n",
       "      <td>4</td>\n",
       "      <td>Urchin</td>\n",
       "      <td>Rogue 3</td>\n",
       "      <td>Rogue</td>\n",
       "      <td>3</td>\n",
       "      <td>NaN</td>\n",
       "      <td>29</td>\n",
       "      <td>15</td>\n",
       "      <td>8</td>\n",
       "      <td>17</td>\n",
       "      <td>...</td>\n",
       "      <td>0</td>\n",
       "      <td>0</td>\n",
       "      <td>0</td>\n",
       "      <td>0</td>\n",
       "      <td>1</td>\n",
       "      <td>1</td>\n",
       "      <td>1</td>\n",
       "      <td>0</td>\n",
       "      <td>0</td>\n",
       "      <td>0</td>\n",
       "    </tr>\n",
       "  </tbody>\n",
       "</table>\n",
       "<p>5 rows × 83 columns</p>\n",
       "</div>"
      ],
      "text/plain": [
       "   Unnamed: 0 background       class justClass  level              feats  HP  \\\n",
       "0           0     Knight   Warlock 4   Warlock      4  Fighting Initiate  29   \n",
       "1           1     Knight   Warlock 1   Warlock      1  Fighting Initiate   9   \n",
       "2           2     Knight   Warlock 3   Warlock      3                NaN  28   \n",
       "3           3     Knight  Sorcerer 4  Sorcerer      4                NaN  20   \n",
       "4           4     Urchin     Rogue 3     Rogue      3                NaN  29   \n",
       "\n",
       "   AC  Str  Dex  ...  castCon  castDex  castStr  otherRace simpleWeapon  \\\n",
       "0  14    9   16  ...        0        0        0          0            1   \n",
       "1  13   10   15  ...        0        0        0          0            1   \n",
       "2  12   11   14  ...        0        0        0          1            1   \n",
       "3  11   14   12  ...        0        0        0          0            1   \n",
       "4  15    8   17  ...        0        0        0          0            1   \n",
       "\n",
       "  martialWeapon rangedWeapon num_feats num_spells multiClass  \n",
       "0             1            0         1          8          0  \n",
       "1             0            0         1          0          0  \n",
       "2             0            0         0         11          0  \n",
       "3             0            0         0          0          0  \n",
       "4             1            1         0          0          0  \n",
       "\n",
       "[5 rows x 83 columns]"
      ]
     },
     "execution_count": 3,
     "metadata": {},
     "output_type": "execute_result"
    }
   ],
   "source": [
    "mc.head()"
   ]
  },
  {
   "cell_type": "code",
   "execution_count": 4,
   "id": "2bdc178a-6a92-4f27-a451-9d8d6f0de9fd",
   "metadata": {},
   "outputs": [
    {
     "name": "stdout",
     "output_type": "stream",
     "text": [
      "<class 'pandas.core.frame.DataFrame'>\n",
      "RangeIndex: 9784 entries, 0 to 9783\n",
      "Data columns (total 83 columns):\n",
      " #   Column            Non-Null Count  Dtype \n",
      "---  ------            --------------  ----- \n",
      " 0   Unnamed: 0        9784 non-null   int64 \n",
      " 1   background        9766 non-null   object\n",
      " 2   class             9784 non-null   object\n",
      " 3   justClass         9784 non-null   object\n",
      " 4   level             9784 non-null   int64 \n",
      " 5   feats             3066 non-null   object\n",
      " 6   HP                9784 non-null   int64 \n",
      " 7   AC                9784 non-null   int64 \n",
      " 8   Str               9784 non-null   int64 \n",
      " 9   Dex               9784 non-null   int64 \n",
      " 10  Con               9784 non-null   int64 \n",
      " 11  Int               9784 non-null   int64 \n",
      " 12  Wis               9784 non-null   int64 \n",
      " 13  Cha               9784 non-null   int64 \n",
      " 14  skills            9776 non-null   object\n",
      " 15  weapons           9644 non-null   object\n",
      " 16  castingStat       9784 non-null   object\n",
      " 17  processedRace     9596 non-null   object\n",
      " 18  processedSpells   4458 non-null   object\n",
      " 19  processedWeapons  9593 non-null   object\n",
      " 20  levelGroup        9761 non-null   object\n",
      " 21  Acrobatics        9784 non-null   int64 \n",
      " 22  Animal Handling   9784 non-null   int64 \n",
      " 23  Arcana            9784 non-null   int64 \n",
      " 24  Athletics         9784 non-null   int64 \n",
      " 25  Deception         9784 non-null   int64 \n",
      " 26  History           9784 non-null   int64 \n",
      " 27  Insight           9784 non-null   int64 \n",
      " 28  Intimidation      9784 non-null   int64 \n",
      " 29  Investigation     9784 non-null   int64 \n",
      " 30  Medicine          9784 non-null   int64 \n",
      " 31  Nature            9784 non-null   int64 \n",
      " 32  Perception        9784 non-null   int64 \n",
      " 33  Performance       9784 non-null   int64 \n",
      " 34  Persuasion        9784 non-null   int64 \n",
      " 35  Religion          9784 non-null   int64 \n",
      " 36  Sleight of Hand   9784 non-null   int64 \n",
      " 37  Stealth           9784 non-null   int64 \n",
      " 38  Survival          9784 non-null   int64 \n",
      " 39  Human             9784 non-null   int64 \n",
      " 40  Elf               9784 non-null   int64 \n",
      " 41  Half-Elf          9784 non-null   int64 \n",
      " 42  Dwarf             9784 non-null   int64 \n",
      " 43  Tiefling          9784 non-null   int64 \n",
      " 44  Dragonborn        9784 non-null   int64 \n",
      " 45  Halfling          9784 non-null   int64 \n",
      " 46  Half-Orc          9784 non-null   int64 \n",
      " 47  Gnome             9784 non-null   int64 \n",
      " 48  Aasimar           9784 non-null   int64 \n",
      " 49  Tabaxi            9784 non-null   int64 \n",
      " 50  Goliath           9784 non-null   int64 \n",
      " 51  Warforged         9784 non-null   int64 \n",
      " 52  GoblinGenasi      9784 non-null   int64 \n",
      " 53  Firbolg           9784 non-null   int64 \n",
      " 54  Turtle            9784 non-null   int64 \n",
      " 55  Triton            9784 non-null   int64 \n",
      " 56  Lizardfolk        9784 non-null   int64 \n",
      " 57  Minotaur          9784 non-null   int64 \n",
      " 58  Aarakocra         9784 non-null   int64 \n",
      " 59  Kenku             9784 non-null   int64 \n",
      " 60  Kobold            9784 non-null   int64 \n",
      " 61  Eladrin           9784 non-null   int64 \n",
      " 62  Yaun-Ti           9784 non-null   int64 \n",
      " 63  1-3               9784 non-null   int64 \n",
      " 64  4-7               9784 non-null   int64 \n",
      " 65  8-11              9784 non-null   int64 \n",
      " 66  12-15             9784 non-null   int64 \n",
      " 67  16-18             9784 non-null   int64 \n",
      " 68  19-20             9784 non-null   int64 \n",
      " 69  NA                9784 non-null   int64 \n",
      " 70  castCha           9784 non-null   int64 \n",
      " 71  castInt           9784 non-null   int64 \n",
      " 72  castWis           9784 non-null   int64 \n",
      " 73  castCon           9784 non-null   int64 \n",
      " 74  castDex           9784 non-null   int64 \n",
      " 75  castStr           9784 non-null   int64 \n",
      " 76  otherRace         9784 non-null   int64 \n",
      " 77  simpleWeapon      9784 non-null   int64 \n",
      " 78  martialWeapon     9784 non-null   int64 \n",
      " 79  rangedWeapon      9784 non-null   int64 \n",
      " 80  num_feats         9784 non-null   int64 \n",
      " 81  num_spells        9784 non-null   int64 \n",
      " 82  multiClass        9784 non-null   int64 \n",
      "dtypes: int64(72), object(11)\n",
      "memory usage: 6.2+ MB\n"
     ]
    }
   ],
   "source": [
    "mc.info()"
   ]
  },
  {
   "cell_type": "markdown",
   "id": "49875372-4a34-4fce-9b36-56364690e020",
   "metadata": {},
   "source": [
    "### Removing superfluous/ unprocessed features\n",
    "Some of the features that I included after the initial cleaning have not been processed, such as background, processedRace, and justClass. Other features have been converted to a numeric format, e.g. processedWeapons, skills, and casting stats. There is already categories that encompass level (levelgroup), feats (num_feats), and processedSpells (num_spells). Dummy variables have been created for skills, castingStat, and weapon type (simple, melee, and ranged)."
   ]
  },
  {
   "cell_type": "code",
   "execution_count": 5,
   "id": "0ab0ad8d-d649-4638-ab60-8236fd028f49",
   "metadata": {
    "tags": []
   },
   "outputs": [],
   "source": [
    "mc.drop(['Unnamed: 0', 'background', 'feats', 'weapons', 'skills',\n",
    "         'castingStat' ,'processedWeapons', 'processedSpells', 'processedRace', 'justClass', \n",
    "        'levelGroup', 'class'], axis=1, inplace=True)"
   ]
  },
  {
   "cell_type": "markdown",
   "id": "f024f8f6-2cd4-4717-99ba-604c819cfaed",
   "metadata": {},
   "source": [
    "### Train Test split:\n",
    "The DnD Character stats dataset is split into a training and testing set. 80/20. Each of the numeric values are visualized through a pairplot that takes a really long time to load and is difficult to read without zooming in. Probably should make this with less features."
   ]
  },
  {
   "cell_type": "code",
   "execution_count": 6,
   "id": "e0cc111a-adcb-4f72-b325-bf5d1f88b1f3",
   "metadata": {},
   "outputs": [],
   "source": [
    "x_train, x_test, y_train, y_test = train_test_split(mc.iloc[:, 0:-1], mc.iloc[:, -1], \n",
    "                                                    test_size = 0.2, random_state=42,\n",
    "                                                   stratify = mc.iloc[:, -1])\n"
   ]
  },
  {
   "cell_type": "markdown",
   "id": "507bcf7d-b72b-4e2b-a579-920d898d83b1",
   "metadata": {},
   "source": [
    "## 1st model: Logistic Regression\n",
    "A logistic regression model is created for our binary classification problem. To reiterate, it is trying to predict if a character is multiclassed (1) or just using its base class (0)."
   ]
  },
  {
   "cell_type": "code",
   "execution_count": 7,
   "id": "be03b9d5-c2e0-4f25-92b9-704140141bd0",
   "metadata": {},
   "outputs": [
    {
     "data": {
      "text/plain": [
       "0.8981729909288361"
      ]
     },
     "execution_count": 7,
     "metadata": {},
     "output_type": "execute_result"
    }
   ],
   "source": [
    "lr_mc = LogisticRegression(solver='liblinear')\n",
    "lr_mc.fit(x_train, y_train)\n",
    "lr_mc.score(x_train, y_train)\n",
    "#wow this score is not bad, but let's take a closer look.\n",
    "# the multiclass group is much smaller than the base class group."
   ]
  },
  {
   "cell_type": "code",
   "execution_count": 8,
   "id": "138b2f67-0ef3-4136-b4a5-f2ef6da7a05e",
   "metadata": {},
   "outputs": [
    {
     "data": {
      "text/plain": [
       "0.8937148696985181"
      ]
     },
     "execution_count": 8,
     "metadata": {},
     "output_type": "execute_result"
    }
   ],
   "source": [
    "lr_mc.score(x_test, y_test)\n",
    "# hmmm this is very suspicious. I thought it would do worse"
   ]
  },
  {
   "cell_type": "code",
   "execution_count": 9,
   "id": "477c361b-ea26-4082-aaff-fa242019796a",
   "metadata": {},
   "outputs": [
    {
     "data": {
      "text/plain": [
       "array([[1701,   31],\n",
       "       [ 177,   48]], dtype=int64)"
      ]
     },
     "execution_count": 9,
     "metadata": {},
     "output_type": "execute_result"
    }
   ],
   "source": [
    "confusion_matrix(y_test, lr_mc.predict(x_test))\n",
    "#just as i thought. \n",
    "#the positive class (multiclass characters) is not being predicted well"
   ]
  },
  {
   "cell_type": "code",
   "execution_count": 10,
   "id": "1a83fd8d-8ffb-48a7-9dd4-4fe8c029184f",
   "metadata": {},
   "outputs": [
    {
     "data": {
      "text/plain": [
       "0.3157894736842105"
      ]
     },
     "execution_count": 10,
     "metadata": {},
     "output_type": "execute_result"
    }
   ],
   "source": [
    "#hmm how is our f-1 score?\n",
    "#well that is not a total failure, but still not great\n",
    "f1_score(y_test, lr_mc.predict(x_test))"
   ]
  },
  {
   "cell_type": "code",
   "execution_count": 11,
   "id": "1386e211-ab76-4615-ba5a-9ed88061128f",
   "metadata": {},
   "outputs": [],
   "source": [
    "fpr, tpr, thresholds = roc_curve(y_test, lr_mc.predict_proba(x_test)[:,1])"
   ]
  },
  {
   "cell_type": "code",
   "execution_count": 12,
   "id": "bf008e80-9939-4ba3-83cc-43841920008d",
   "metadata": {},
   "outputs": [
    {
     "name": "stdout",
     "output_type": "stream",
     "text": [
      "ROC AUC score =  0.8340672312034898\n"
     ]
    },
    {
     "data": {
      "image/png": "[encoded data removed]",
      "text/plain": [
       "<Figure size 432x288 with 1 Axes>"
      ]
     },
     "metadata": {
      "needs_background": "light"
     },
     "output_type": "display_data"
    }
   ],
   "source": [
    "plt.plot(fpr, tpr,lw=2)\n",
    "plt.plot([0,1],[0,1],c='orange',ls='--')\n",
    "plt.xlim([-0.05,1.05])\n",
    "plt.ylim([-0.05,1.05])\n",
    "\n",
    "\n",
    "plt.xlabel('False positive rate')\n",
    "plt.ylabel('True positive rate')\n",
    "plt.title('ROC curve for Multiclass Character Prediction');\n",
    "print(\"ROC AUC score = \", roc_auc_score(y_test, lr_mc.predict_proba(x_test)[:,1]))"
   ]
  },
  {
   "cell_type": "markdown",
   "id": "53244bf4-d727-42ac-8c00-fedef4b6e257",
   "metadata": {},
   "source": [
    "### **Conclusions**\n",
    "More feature engineering needs to be done. More specifically, I will need to adjust the class weights so the positive class is weighted more heavily. If that does not work, then I could try oversampling from the positive class, and undersampling from the negative class. I also plan to compare other classification algorithms, such as SVM, RF, and XGboost."
   ]
  },
  {
   "cell_type": "code",
   "execution_count": 13,
   "id": "d7f5ff79-6695-4bf5-af74-41548d0c042e",
   "metadata": {},
   "outputs": [],
   "source": [
    "#sns.pairplot(x_train)\n",
    "#well this is hard to read"
   ]
  }
 ],
 "metadata": {
  "kernelspec": {
   "display_name": "Python [conda env:redline] *",
   "language": "python",
   "name": "conda-env-redline-py"
  },
  "language_info": {
   "codemirror_mode": {
    "name": "ipython",
    "version": 3
   },
   "file_extension": ".py",
   "mimetype": "text/x-python",
   "name": "python",
   "nbconvert_exporter": "python",
   "pygments_lexer": "ipython3",
   "version": "3.8.10"
  }
 },
 "nbformat": 4,
 "nbformat_minor": 5
}
